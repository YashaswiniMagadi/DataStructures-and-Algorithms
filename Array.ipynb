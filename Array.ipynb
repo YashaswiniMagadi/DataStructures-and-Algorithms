{
 "cells": [
  {
   "cell_type": "markdown",
   "id": "c00ee031-4b1b-45e4-92b1-86b06b9ba432",
   "metadata": {},
   "source": [
    "<center><h1 font = \"b\">Data Structure 1 - Array</h1></center>"
   ]
  },
  {
   "cell_type": "code",
   "execution_count": 1,
   "id": "68c74773-f047-44e2-b757-9693e771b98b",
   "metadata": {},
   "outputs": [
    {
     "data": {
      "text/plain": [
       "[298, 305, 320, 301, 292]"
      ]
     },
     "execution_count": 1,
     "metadata": {},
     "output_type": "execute_result"
    }
   ],
   "source": [
    "#creating a list \n",
    "stock_price = [298,305,320,301,292]\n",
    "stock_price"
   ]
  },
  {
   "cell_type": "code",
   "execution_count": 2,
   "id": "2a9c3fc1-80a5-4489-b644-c2f59bd24b44",
   "metadata": {},
   "outputs": [
    {
     "data": {
      "text/plain": [
       "298"
      ]
     },
     "execution_count": 2,
     "metadata": {},
     "output_type": "execute_result"
    }
   ],
   "source": [
    "stock_price[0]  #look up by index = O(1)  constant time operation"
   ]
  },
  {
   "cell_type": "code",
   "execution_count": 3,
   "id": "dd803934-f9b2-4588-9ad6-240a8619c9c1",
   "metadata": {},
   "outputs": [
    {
     "data": {
      "text/plain": [
       "301"
      ]
     },
     "execution_count": 3,
     "metadata": {},
     "output_type": "execute_result"
    }
   ],
   "source": [
    "stock_price[3]"
   ]
  },
  {
   "cell_type": "code",
   "execution_count": 12,
   "id": "49ccb6d2-7865-494e-9453-2eec550a4d8f",
   "metadata": {},
   "outputs": [
    {
     "data": {
      "text/plain": [
       "[298, 305, 320, 301, 292, 284, 284, 284]"
      ]
     },
     "execution_count": 12,
     "metadata": {},
     "output_type": "execute_result"
    }
   ],
   "source": [
    "stock_price.append(284)  # inserting new element to list\n",
    "stock_price"
   ]
  },
  {
   "cell_type": "code",
   "execution_count": 14,
   "id": "af8e4a14-f16b-419a-a708-932ce691dc5d",
   "metadata": {},
   "outputs": [
    {
     "data": {
      "text/plain": [
       "[298, 342, 342, 305, 320, 301, 292, 284, 284, 284]"
      ]
     },
     "execution_count": 14,
     "metadata": {},
     "output_type": "execute_result"
    }
   ],
   "source": [
    "stock_price.insert(1,342)  # inserting new element to given index  = O(n)\n",
    "stock_price"
   ]
  },
  {
   "cell_type": "code",
   "execution_count": 16,
   "id": "26677294-2535-461f-b39e-a7656bade8d7",
   "metadata": {},
   "outputs": [
    {
     "data": {
      "text/plain": [
       "[298, 342, 305, 320, 301, 292, 284, 284, 284]"
      ]
     },
     "execution_count": 16,
     "metadata": {},
     "output_type": "execute_result"
    }
   ],
   "source": [
    "stock_price.remove(342)  # deleting element = O(n)\n",
    "stock_price"
   ]
  },
  {
   "cell_type": "code",
   "execution_count": 8,
   "id": "3bcc1e43-e787-485f-9a76-f75bdc744582",
   "metadata": {},
   "outputs": [
    {
     "name": "stdout",
     "output_type": "stream",
     "text": [
      "3\n"
     ]
    }
   ],
   "source": [
    "for i in range(len(stock_price)):            #look up by value = O(n)\n",
    "    if(stock_price[i]==301):\n",
    "        print(i)                       "
   ]
  },
  {
   "cell_type": "code",
   "execution_count": 11,
   "id": "23edf03e-dee0-4c1e-bd60-daeb0d62e1f8",
   "metadata": {},
   "outputs": [
    {
     "name": "stdout",
     "output_type": "stream",
     "text": [
      "298\n",
      "305\n",
      "320\n",
      "301\n",
      "292\n",
      "284\n",
      "284\n"
     ]
    }
   ],
   "source": [
    "for i in range(len(stock_price)):\n",
    "    print(stock_price[i])                         #list traversal = O(n)"
   ]
  },
  {
   "cell_type": "markdown",
   "id": "78799b58-0bd7-48c3-9433-625878fa499e",
   "metadata": {},
   "source": [
    "# Exercise 1 : Array DataStructure\n",
    "Let us say your expense for every month are listed below,\n",
    "January - 2200\n",
    "February - 2350\n",
    "March - 2600\n",
    "April - 2130\n",
    "May - 2190\n",
    "Create a list to store these monthly expenses and using that find out,\n",
    "\n",
    "1. In Feb, how many dollars you spent extra compare to January?\n",
    "2. Find out your total expense in first quarter (first three months) of the year.\n",
    "3. Find out if you spent exactly 2000 dollars in any month\n",
    "4. June month just finished and your expense is 1980 dollar. Add this item to our monthly expense list\n",
    "5. You returned an item that you bought in a month of April and\n",
    "got a refund of 200$. Make a correction to your monthly expense list\n",
    "based on this"
   ]
  },
  {
   "cell_type": "code",
   "execution_count": 30,
   "id": "9ac7287e-c314-4704-91ac-64b0c35a2b62",
   "metadata": {},
   "outputs": [
    {
     "data": {
      "text/plain": [
       "[2200, 2350, 2600, 2130, 2190]"
      ]
     },
     "execution_count": 30,
     "metadata": {},
     "output_type": "execute_result"
    }
   ],
   "source": [
    "expenses = [2200,2350,2600,2130,2190]\n",
    "expenses"
   ]
  },
  {
   "cell_type": "code",
   "execution_count": 20,
   "id": "aea5a024-3d21-407a-b22c-4410a432cc94",
   "metadata": {},
   "outputs": [
    {
     "name": "stdout",
     "output_type": "stream",
     "text": [
      "Extra spent in february compared to january =  150\n"
     ]
    }
   ],
   "source": [
    "print(\"Extra spent in february compared to january = \" , expenses[1]-expenses[0])"
   ]
  },
  {
   "cell_type": "code",
   "execution_count": 21,
   "id": "7c6f8f83-7f5c-4e08-9c64-ed873d301bfb",
   "metadata": {},
   "outputs": [
    {
     "name": "stdout",
     "output_type": "stream",
     "text": [
      "Total expense in first quarter =  7150\n"
     ]
    }
   ],
   "source": [
    "print(\"Total expense in first quarter = \" , expenses[0]+expenses[1]+expenses[2])"
   ]
  },
  {
   "cell_type": "code",
   "execution_count": 23,
   "id": "648feeb5-ce88-46d5-829e-d22560e6648b",
   "metadata": {},
   "outputs": [
    {
     "name": "stdout",
     "output_type": "stream",
     "text": [
      "Spent 2000 exactly in any month = False\n"
     ]
    }
   ],
   "source": [
    "print(\"Spent 2000 exactly in any month =\" , 2000 in expenses)"
   ]
  },
  {
   "cell_type": "code",
   "execution_count": 27,
   "id": "f2c5bf66-4a8b-4f3a-9164-d57a5ff769d6",
   "metadata": {},
   "outputs": [
    {
     "data": {
      "text/plain": [
       "[2200, 2350, 2600, 2130, 2190, 1980]"
      ]
     },
     "execution_count": 27,
     "metadata": {},
     "output_type": "execute_result"
    }
   ],
   "source": [
    "expenses.append(1980)\n",
    "expenses"
   ]
  },
  {
   "cell_type": "code",
   "execution_count": 31,
   "id": "306a3141-3b99-4579-924e-3dbcc3e216a6",
   "metadata": {},
   "outputs": [],
   "source": [
    "expenses[3]= expenses[3]-200"
   ]
  },
  {
   "cell_type": "code",
   "execution_count": 32,
   "id": "bbf13081-8468-47fc-8e2d-78c876c09f10",
   "metadata": {},
   "outputs": [
    {
     "data": {
      "text/plain": [
       "[2200, 2350, 2600, 1930, 2190]"
      ]
     },
     "execution_count": 32,
     "metadata": {},
     "output_type": "execute_result"
    }
   ],
   "source": [
    "expenses"
   ]
  },
  {
   "cell_type": "markdown",
   "id": "8eabf133-5731-48f6-9dd0-0f8ad0776867",
   "metadata": {},
   "source": [
    "# Exercise 2 : Array DataStructure\n",
    "You have a list of your favourite marvel super heros.\r\n",
    "heros=['spider man','thor','hulk','iron man','captain america']\r\n",
    "Using this find out,\r\n",
    "\r\n",
    "1. Length of the list\r\n",
    "2. Add 'black panther' at the end of this list\r\n",
    "3. You realize that you need to add 'black panther' after 'hulk',\r\n",
    "   so remove it from the list first and then add it after 'hulk'\r\n",
    "4. Now you don't like thor and hulk because they get angry easily :)\r\n",
    "   So you want to remove thor and hulk from list and replace them with doctor strange (because he is cool).\r\n",
    "   Do that with one line of code.\r\n",
    "5. Sort the heros list in alphabetical order (Hint. Use dir() functions to list down all functions available in list)"
   ]
  },
  {
   "cell_type": "code",
   "execution_count": 49,
   "id": "695abf6d-c571-4156-b384-85c3b3863220",
   "metadata": {},
   "outputs": [
    {
     "data": {
      "text/plain": [
       "['spider man', 'thor', 'hulk', 'iron man', 'captain america']"
      ]
     },
     "execution_count": 49,
     "metadata": {},
     "output_type": "execute_result"
    }
   ],
   "source": [
    "heros=['spider man','thor','hulk','iron man','captain america']\n",
    "heros"
   ]
  },
  {
   "cell_type": "code",
   "execution_count": 39,
   "id": "a05294ff-1f5d-403d-83af-49231b062744",
   "metadata": {},
   "outputs": [
    {
     "data": {
      "text/plain": [
       "5"
      ]
     },
     "execution_count": 39,
     "metadata": {},
     "output_type": "execute_result"
    }
   ],
   "source": [
    "len(heros)"
   ]
  },
  {
   "cell_type": "code",
   "execution_count": 40,
   "id": "ea98b7e9-2010-42b0-831c-0e6a8aa5fe5d",
   "metadata": {},
   "outputs": [
    {
     "data": {
      "text/plain": [
       "['spider man', 'thor', 'hulk', 'iron man', 'captain america', 'black panther']"
      ]
     },
     "execution_count": 40,
     "metadata": {},
     "output_type": "execute_result"
    }
   ],
   "source": [
    "heros.append('black panther')\n",
    "heros"
   ]
  },
  {
   "cell_type": "code",
   "execution_count": 41,
   "id": "c0c02e58-c1ae-4a21-93a0-6b2485a15712",
   "metadata": {},
   "outputs": [
    {
     "data": {
      "text/plain": [
       "['spider man', 'thor', 'hulk', 'iron man', 'captain america']"
      ]
     },
     "execution_count": 41,
     "metadata": {},
     "output_type": "execute_result"
    }
   ],
   "source": [
    "heros.pop()\n",
    "heros"
   ]
  },
  {
   "cell_type": "code",
   "execution_count": 42,
   "id": "a75a5076-2995-4bc3-b808-d482a5ec391b",
   "metadata": {},
   "outputs": [],
   "source": [
    "heros.insert(3,'black panther')"
   ]
  },
  {
   "cell_type": "code",
   "execution_count": 43,
   "id": "c04686e0-8834-420c-a1f1-bb1f26b6b26e",
   "metadata": {},
   "outputs": [
    {
     "data": {
      "text/plain": [
       "['spider man', 'thor', 'hulk', 'black panther', 'iron man', 'captain america']"
      ]
     },
     "execution_count": 43,
     "metadata": {},
     "output_type": "execute_result"
    }
   ],
   "source": [
    "heros"
   ]
  },
  {
   "cell_type": "code",
   "execution_count": 50,
   "id": "3a2354bd-8c38-4e91-bf1a-5d0fd2ad24c9",
   "metadata": {},
   "outputs": [],
   "source": [
    "heros[1:3]=['doctor strange']"
   ]
  },
  {
   "cell_type": "code",
   "execution_count": 51,
   "id": "44aab1fe-f50a-4ec5-94d2-c4b750de6305",
   "metadata": {},
   "outputs": [
    {
     "data": {
      "text/plain": [
       "['spider man', 'doctor strange', 'iron man', 'captain america']"
      ]
     },
     "execution_count": 51,
     "metadata": {},
     "output_type": "execute_result"
    }
   ],
   "source": [
    "heros"
   ]
  },
  {
   "cell_type": "code",
   "execution_count": 52,
   "id": "52a3a3cc-0d6d-45a0-bbf4-eb594f2f321a",
   "metadata": {},
   "outputs": [
    {
     "name": "stdout",
     "output_type": "stream",
     "text": [
      "['captain america', 'doctor strange', 'iron man', 'spider man']\n"
     ]
    }
   ],
   "source": [
    "heros.sort()\n",
    "print(heros)"
   ]
  },
  {
   "cell_type": "markdown",
   "id": "a6057380-9d33-4475-bbac-db71b926ed8d",
   "metadata": {},
   "source": [
    "# Exercise 3 : Array DataStructure\n",
    "Create a list of all odd numbers between 1 and a max number. Max number is something you need to take from a user using input() function"
   ]
  },
  {
   "cell_type": "code",
   "execution_count": 54,
   "id": "111b7385-47c3-46a7-9720-7f20aa59279f",
   "metadata": {},
   "outputs": [
    {
     "name": "stdin",
     "output_type": "stream",
     "text": [
      "Enter a number 9\n"
     ]
    },
    {
     "name": "stdout",
     "output_type": "stream",
     "text": [
      "Odd numbers : [1, 3, 5, 7]\n"
     ]
    }
   ],
   "source": [
    "max_num = int(input(\"Enter a number\"))  #1\n",
    "\n",
    "odd_numbers = []\n",
    "for i in range(1,max_num,2):\n",
    "    odd_numbers.append(i)\n",
    "\n",
    "print(\"Odd numbers :\", odd_numbers)"
   ]
  },
  {
   "cell_type": "code",
   "execution_count": 55,
   "id": "a3f983c2-60f0-4f9a-a621-1960cb49b3e2",
   "metadata": {},
   "outputs": [
    {
     "name": "stdin",
     "output_type": "stream",
     "text": [
      "Enter max number:  9\n"
     ]
    },
    {
     "name": "stdout",
     "output_type": "stream",
     "text": [
      "Odd numbers:  [1, 3, 5, 7]\n"
     ]
    }
   ],
   "source": [
    "max = int(input(\"Enter max number: \"))  #2\n",
    "\n",
    "odd_numbers = []\n",
    "\n",
    "for i in range(1, max):\n",
    "    if i % 2 == 1:\n",
    "        odd_numbers.append(i)\n",
    "\n",
    "print(\"Odd numbers: \", odd_numbers)"
   ]
  },
  {
   "cell_type": "code",
   "execution_count": null,
   "id": "108ed061-a959-4133-b838-e1adc9531408",
   "metadata": {},
   "outputs": [],
   "source": []
  }
 ],
 "metadata": {
  "kernelspec": {
   "display_name": "Python 3 (ipykernel)",
   "language": "python",
   "name": "python3"
  },
  "language_info": {
   "codemirror_mode": {
    "name": "ipython",
    "version": 3
   },
   "file_extension": ".py",
   "mimetype": "text/x-python",
   "name": "python",
   "nbconvert_exporter": "python",
   "pygments_lexer": "ipython3",
   "version": "3.8.10"
  }
 },
 "nbformat": 4,
 "nbformat_minor": 5
}
